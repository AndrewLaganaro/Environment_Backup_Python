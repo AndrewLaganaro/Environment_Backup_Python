{
 "cells": [
  {
   "cell_type": "code",
   "execution_count": 2,
   "metadata": {},
   "outputs": [
    {
     "name": "stdout",
     "output_type": "stream",
     "text": [
      "..\\Env_backup_files\n",
      "a:\\Andrew\\Portfolio\\Repos\\Environment_Backup_Python\\Env_backup_scripts\n",
      "Backup folder found\n",
      "Enviroment file generated\n",
      "Packages file generated\n",
      "All done!\n"
     ]
    }
   ],
   "source": [
    "import os\n",
    "import subprocess\n",
    "\"\"\"A file to automatically backup python environments and it's packages specifications\"\"\"\n",
    "class folder:\n",
    "    \"\"\"Context manager for changing the current working directory\"\"\"\n",
    "    def __init__(self, newPath):\n",
    "        self.newPath = os.path.expanduser(newPath)\n",
    "        print(self.newPath)\n",
    "    def __enter__(self):\n",
    "        self.savedPath = os.getcwd()\n",
    "        os.chdir(self.newPath)\n",
    "        print(self.savedPath)\n",
    "\n",
    "    def __exit__(self, etype, value, traceback):\n",
    "        os.chdir(self.savedPath)\n",
    "\n",
    "def execOrder(to_order):\n",
    "    ordered = []\n",
    "    for execution in range(len(to_order.keys())):\n",
    "        ordered.append(execution)\n",
    "    return ordered\n",
    "\n",
    "Environment = \"Data_Science\"\n",
    "Environment_file = \"Data_Science\"\n",
    "Packages_file = \"Data_Science\"\n",
    "Save_to = \"..\\Env_backup_files\"\n",
    "\n",
    "execute = {\"Turn env ON:\":          f\"conda activate {Environment}\",\n",
    "           \"Generate env specs:\":   f'conda env export | findstr -v \"prefix\" > {Environment_file}.yml',\n",
    "           \"Generate packs specs:\": f\"pip freeze > {Packages_file}.txt\"}\n",
    "\n",
    "order = execOrder(execute)\n",
    "\n",
    "with folder(Save_to):\n",
    "        \n",
    "    for execution, current in zip(execute.values(), order):\n",
    "        try:\n",
    "            subprocess.run(execution, shell=True)\n",
    "            \n",
    "            if order.index(current) == 0:\n",
    "                print(\"Backup folder found\")#conda activate\n",
    "            elif order.index(current) == 1:\n",
    "                print(\"Enviroment file generated\")\n",
    "            elif order.index(current) == 2:\n",
    "                print(\"Packages file generated\")\n",
    "                print(\"All done!\")\n",
    "        except:\n",
    "            if order.index(current) == 0:\n",
    "                print(\"Couldn't find backup folder\")\n",
    "            elif order.index(current) == 1:\n",
    "                print(\"Couldn't generate enviroment file\")\n",
    "            elif order.index(current) == 2:\n",
    "                print(\"Couldn't generate any file!\")"
   ]
  },
  {
   "cell_type": "code",
   "execution_count": 1,
   "metadata": {},
   "outputs": [
    {
     "name": "stdout",
     "output_type": "stream",
     "text": [
      "3.8.5\n"
     ]
    }
   ],
   "source": [
    "from platform import python_version\n",
    "print(python_version())"
   ]
  }
 ],
 "metadata": {
  "kernelspec": {
   "display_name": "Python 3.8.5 ('Data_Science')",
   "language": "python",
   "name": "python3"
  },
  "language_info": {
   "codemirror_mode": {
    "name": "ipython",
    "version": 3
   },
   "file_extension": ".py",
   "mimetype": "text/x-python",
   "name": "python",
   "nbconvert_exporter": "python",
   "pygments_lexer": "ipython3",
   "version": "3.8.5"
  },
  "orig_nbformat": 2,
  "vscode": {
   "interpreter": {
    "hash": "b666dbd1e057f0ca48c422280120603a43e4393a276013d976aedff41ddbe8cd"
   }
  }
 },
 "nbformat": 4,
 "nbformat_minor": 2
}
