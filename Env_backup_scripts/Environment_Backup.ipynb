{
 "cells": [
  {
   "cell_type": "code",
   "execution_count": null,
   "metadata": {},
   "outputs": [],
   "source": [
    "import subprocess\r\n",
    "\"\"\"A file to automatically backup python environments and it's packages specifications\"\"\"\r\n",
    "class folder:\r\n",
    "    \"\"\"Context manager for changing the current working directory\"\"\"\r\n",
    "    def __init__(self, newPath):\r\n",
    "        self.newPath = os.path.expanduser(newPath)\r\n",
    "\r\n",
    "    def __enter__(self):\r\n",
    "        self.savedPath = os.getcwd()\r\n",
    "        os.chdir(self.newPath)\r\n",
    "\r\n",
    "    def __exit__(self, etype, value, traceback):\r\n",
    "        os.chdir(self.savedPath)\r\n",
    "\r\n",
    "def execOrder(to_order):\r\n",
    "    ordered = []\r\n",
    "    for execution in range(len(to_order.keys())):\r\n",
    "        ordered.append(execution)\r\n",
    "    return ordered\r\n",
    "\r\n",
    "Environment = \"Data_Science\"\r\n",
    "Environment_file = \"Data_Science\"\r\n",
    "Packages_file = \"Data_Science\"\r\n",
    "Save_to = \"A:\\Andrew\\Desenvolvimento\\Environment\"\r\n",
    "\r\n",
    "execute = {\"Turn env ON:\":          f\"conda activate {Environment}\",\r\n",
    "           \"Generate env specs:\":   f\"conda env export > {Environment_file}.yml\",\r\n",
    "           \"Generate packs specs:\": f\"pip freeze > {Packages_file}.txt\"}\r\n",
    "\r\n",
    "order = execOrder(execute)\r\n",
    "\r\n",
    "with folder(Save_to):\r\n",
    "        \r\n",
    "    for execution, current in zip(execute.values(), order):\r\n",
    "        try:\r\n",
    "            subprocess.run(execution, shell=True)\r\n",
    "            \r\n",
    "            if order.index(current) == 0:\r\n",
    "                print(\"Backup folder found\")\r\n",
    "            elif order.index(current) == 1:\r\n",
    "                print(\"Enviroment file generated\")\r\n",
    "            elif order.index(current) == 2:\r\n",
    "                print(\"Packages file generated\")\r\n",
    "                print(\"All done!\")\r\n",
    "        except:\r\n",
    "            if order.index(current) == 0:\r\n",
    "                print(\"Couldn't find backup folder\")\r\n",
    "            elif order.index(current) == 1:\r\n",
    "                print(\"Couldn't generate enviroment file\")\r\n",
    "            elif order.index(current) == 2:\r\n",
    "                print(\"Couldn't generate any file!\")"
   ]
  }
 ],
 "metadata": {
  "kernelspec": {
   "display_name": "Python 3.6.13 64-bit ('Data_Science': conda)",
   "name": "python3613jvsc74a57bd076a88e614f8d7f6c475b17a416d7d34c86715705171ff2ed9e1d8a5278bc9fb7"
  },
  "language_info": {
   "name": "python",
   "version": ""
  },
  "orig_nbformat": 2
 },
 "nbformat": 4,
 "nbformat_minor": 2
}